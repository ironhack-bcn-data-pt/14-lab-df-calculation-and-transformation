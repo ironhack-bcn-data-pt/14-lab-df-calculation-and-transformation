{
 "cells": [
  {
   "cell_type": "markdown",
   "metadata": {
    "toc": true
   },
   "source": [
    "<h1>Table of Contents<span class=\"tocSkip\"></span></h1>\n",
    "<div class=\"toc\"><ul class=\"toc-item\"><li><span><a href=\"#Challenge-2\" data-toc-modified-id=\"Challenge-2-1\"><span class=\"toc-item-num\">1&nbsp;&nbsp;</span>Challenge 2</a></span><ul class=\"toc-item\"><li><span><a href=\"#Problem-Solving-Iteration-1\" data-toc-modified-id=\"Problem-Solving-Iteration-1-1.1\"><span class=\"toc-item-num\">1.1&nbsp;&nbsp;</span>Problem Solving Iteration 1</a></span><ul class=\"toc-item\"><li><ul class=\"toc-item\"><li><span><a href=\"#The-Total-field-is-computed-based-on-HP,-Attack,-Defense,-Sp.-Atk,-Sp.-Def,-and-Speed.\" data-toc-modified-id=\"The-Total-field-is-computed-based-on-HP,-Attack,-Defense,-Sp.-Atk,-Sp.-Def,-and-Speed.-1.1.0.1\"><span class=\"toc-item-num\">1.1.0.1&nbsp;&nbsp;</span>The <code>Total</code> field is computed based on <code>HP</code>, <code>Attack</code>, <code>Defense</code>, <code>Sp. Atk</code>, <code>Sp. Def</code>, and <code>Speed</code>.</a></span></li></ul></li></ul></li><li><span><a href=\"#Problem-Solving-Iteration-2\" data-toc-modified-id=\"Problem-Solving-Iteration-2-1.2\"><span class=\"toc-item-num\">1.2&nbsp;&nbsp;</span>Problem Solving Iteration 2</a></span><ul class=\"toc-item\"><li><span><a href=\"#Which-pokemon-type-is-most-likely-to-have-the-highest-Total-value?\" data-toc-modified-id=\"Which-pokemon-type-is-most-likely-to-have-the-highest-Total-value?-1.2.1\"><span class=\"toc-item-num\">1.2.1&nbsp;&nbsp;</span>Which pokemon type is most likely to have the highest <code>Total</code> value?</a></span><ul class=\"toc-item\"><li><span><a href=\"#Type-1-and-Type-2-string-variables-need-to-be-converted-to-numerical-variables-in-order-to-identify-the-relationship-between-Total-and-the-pokemon-type.\" data-toc-modified-id=\"Type-1-and-Type-2-string-variables-need-to-be-converted-to-numerical-variables-in-order-to-identify-the-relationship-between-Total-and-the-pokemon-type.-1.2.1.1\"><span class=\"toc-item-num\">1.2.1.1&nbsp;&nbsp;</span><code>Type 1</code> and <code>Type 2</code> string variables need to be converted to numerical variables in order to identify the relationship between <code>Total</code> and the pokemon type.</a></span></li><li><span><a href=\"#How-to-convert-two-string-variables-to-numerical?\" data-toc-modified-id=\"How-to-convert-two-string-variables-to-numerical?-1.2.1.2\"><span class=\"toc-item-num\">1.2.1.2&nbsp;&nbsp;</span>How to convert two string variables to numerical?</a></span></li><li><span><a href=\"#In-the-next-cell,-use-One-Hot-Encoding-to-encode-Type-1-and-Type-2.-Use-the-pokemon-type-values-as-the-names-of-the-numerical-fields-you-create.\" data-toc-modified-id=\"In-the-next-cell,-use-One-Hot-Encoding-to-encode-Type-1-and-Type-2.-Use-the-pokemon-type-values-as-the-names-of-the-numerical-fields-you-create.-1.2.1.3\"><span class=\"toc-item-num\">1.2.1.3&nbsp;&nbsp;</span>In the next cell, use One Hot Encoding to encode <code>Type 1</code> and <code>Type 2</code>. Use the pokemon type values as the names of the numerical fields you create.</a></span></li></ul></li></ul></li><li><span><a href=\"#Problem-Solving-Iteration-3\" data-toc-modified-id=\"Problem-Solving-Iteration-3-1.3\"><span class=\"toc-item-num\">1.3&nbsp;&nbsp;</span>Problem Solving Iteration 3</a></span><ul class=\"toc-item\"><li><ul class=\"toc-item\"><li><span><a href=\"#There-are-relationships-between-Total-and-the-encoded-pokemon-type-variables-and-we-need-to-identify-the-correlations.\" data-toc-modified-id=\"There-are-relationships-between-Total-and-the-encoded-pokemon-type-variables-and-we-need-to-identify-the-correlations.-1.3.0.1\"><span class=\"toc-item-num\">1.3.0.1&nbsp;&nbsp;</span>There are relationships between <code>Total</code> and the encoded pokemon type variables and we need to identify the correlations.</a></span></li><li><span><a href=\"#How-to-identify-the-relationship-between-Total-and-the-encoded-pokemon-type-fields?\" data-toc-modified-id=\"How-to-identify-the-relationship-between-Total-and-the-encoded-pokemon-type-fields?-1.3.0.2\"><span class=\"toc-item-num\">1.3.0.2&nbsp;&nbsp;</span>How to identify the relationship between <code>Total</code> and the encoded pokemon type fields?</a></span></li></ul></li></ul></li></ul></li><li><span><a href=\"#Bonus-Question\" data-toc-modified-id=\"Bonus-Question-2\"><span class=\"toc-item-num\">2&nbsp;&nbsp;</span>Bonus Question</a></span></li></ul></div>"
   ]
  },
  {
   "cell_type": "markdown",
   "metadata": {},
   "source": [
    "# Challenge 2\n",
    "\n",
    "In this challenge we will continue working with `Pokemon.csv`. We will attempt solving a slightly more complex problem in which we will practice the iterative data analysis process you leaned in [this video](https://www.youtube.com/watch?v=xOomNicqbkk).\n",
    "\n",
    "The problem statement is as follows:\n",
    "\n",
    "**You are at a Pokemon black market planning to buy a Pokemon for battle. All Pokemons are sold at the same price and you can only afford to buy one. You cannot choose which specific Pokemon to buy. However, you can specify the type of the Pokemon - one type that exists in either `Type 1` or `Type 2`. Which type should you choose in order to maximize your chance of receiving a good Pokemon?**\n",
    "\n",
    "To remind you about the 3 steps of iterative data analysis, they are:\n",
    "\n",
    "1. Setting Expectations\n",
    "1. Collecting Information\n",
    "1. Reacting to Data / Revising Expectations\n",
    "\n",
    "Following the iterative process, we'll guide you in completing the challenge."
   ]
  },
  {
   "cell_type": "markdown",
   "metadata": {},
   "source": [
    "## Problem Solving Iteration 1\n",
    "\n",
    "In this iteration we'll analyze the problem and identify the breakthrough. The original question statement is kind of vague because we don't know what a *good pokemon* really means as represented in the data. We'll start by understanding the dataset and see if we can find some insights."
   ]
  },
  {
   "cell_type": "code",
   "execution_count": 1,
   "metadata": {},
   "outputs": [],
   "source": [
    "# import libraries\n",
    "import numpy as np\n",
    "import pandas as pd"
   ]
  },
  {
   "cell_type": "code",
   "execution_count": 2,
   "metadata": {
    "scrolled": true
   },
   "outputs": [
    {
     "output_type": "execute_result",
     "data": {
      "text/plain": [
       "   #                   Name Type 1  Type 2  Total  HP  Attack  Defense  \\\n",
       "0  1              Bulbasaur  Grass  Poison    318  45      49       49   \n",
       "1  2                Ivysaur  Grass  Poison    405  60      62       63   \n",
       "2  3               Venusaur  Grass  Poison    525  80      82       83   \n",
       "3  3  VenusaurMega Venusaur  Grass  Poison    625  80     100      123   \n",
       "4  4             Charmander   Fire     NaN    309  39      52       43   \n",
       "\n",
       "   Sp. Atk  Sp. Def  Speed  Generation  Legendary  \n",
       "0       65       65     45           1      False  \n",
       "1       80       80     60           1      False  \n",
       "2      100      100     80           1      False  \n",
       "3      122      120     80           1      False  \n",
       "4       60       50     65           1      False  "
      ],
      "text/html": "<div>\n<style scoped>\n    .dataframe tbody tr th:only-of-type {\n        vertical-align: middle;\n    }\n\n    .dataframe tbody tr th {\n        vertical-align: top;\n    }\n\n    .dataframe thead th {\n        text-align: right;\n    }\n</style>\n<table border=\"1\" class=\"dataframe\">\n  <thead>\n    <tr style=\"text-align: right;\">\n      <th></th>\n      <th>#</th>\n      <th>Name</th>\n      <th>Type 1</th>\n      <th>Type 2</th>\n      <th>Total</th>\n      <th>HP</th>\n      <th>Attack</th>\n      <th>Defense</th>\n      <th>Sp. Atk</th>\n      <th>Sp. Def</th>\n      <th>Speed</th>\n      <th>Generation</th>\n      <th>Legendary</th>\n    </tr>\n  </thead>\n  <tbody>\n    <tr>\n      <th>0</th>\n      <td>1</td>\n      <td>Bulbasaur</td>\n      <td>Grass</td>\n      <td>Poison</td>\n      <td>318</td>\n      <td>45</td>\n      <td>49</td>\n      <td>49</td>\n      <td>65</td>\n      <td>65</td>\n      <td>45</td>\n      <td>1</td>\n      <td>False</td>\n    </tr>\n    <tr>\n      <th>1</th>\n      <td>2</td>\n      <td>Ivysaur</td>\n      <td>Grass</td>\n      <td>Poison</td>\n      <td>405</td>\n      <td>60</td>\n      <td>62</td>\n      <td>63</td>\n      <td>80</td>\n      <td>80</td>\n      <td>60</td>\n      <td>1</td>\n      <td>False</td>\n    </tr>\n    <tr>\n      <th>2</th>\n      <td>3</td>\n      <td>Venusaur</td>\n      <td>Grass</td>\n      <td>Poison</td>\n      <td>525</td>\n      <td>80</td>\n      <td>82</td>\n      <td>83</td>\n      <td>100</td>\n      <td>100</td>\n      <td>80</td>\n      <td>1</td>\n      <td>False</td>\n    </tr>\n    <tr>\n      <th>3</th>\n      <td>3</td>\n      <td>VenusaurMega Venusaur</td>\n      <td>Grass</td>\n      <td>Poison</td>\n      <td>625</td>\n      <td>80</td>\n      <td>100</td>\n      <td>123</td>\n      <td>122</td>\n      <td>120</td>\n      <td>80</td>\n      <td>1</td>\n      <td>False</td>\n    </tr>\n    <tr>\n      <th>4</th>\n      <td>4</td>\n      <td>Charmander</td>\n      <td>Fire</td>\n      <td>NaN</td>\n      <td>309</td>\n      <td>39</td>\n      <td>52</td>\n      <td>43</td>\n      <td>60</td>\n      <td>50</td>\n      <td>65</td>\n      <td>1</td>\n      <td>False</td>\n    </tr>\n  </tbody>\n</table>\n</div>"
     },
     "metadata": {},
     "execution_count": 2
    }
   ],
   "source": [
    "# importing the dataset and inspect the first few rows of the data\n",
    "pokemon = pd.read_csv('Pokemon.csv')\n",
    "pokemon.head()"
   ]
  },
  {
   "cell_type": "markdown",
   "metadata": {},
   "source": [
    "From the data it seems whether a pokemon is good depends on its abilities as represented in the fields of `HP`, `Attack`, `Defense`, `Sp. Atk`, `Sp. Def`, `Speed`, and `Total`. We are not sure about `Generation` and `Legendary` because they are not necessarily the decisive factors of the pokemon abilities.\n",
    "\n",
    "But `HP`, `Attack`, `Defense`, `Sp. Atk`, `Sp. Def`, `Speed`, and `Total` are a lot of fields! If we look at them all at once it's very complicated. This isn't Mission Impossible but it's ideal that we tackle this kind of problem after we learn Machine Learning (which you will do in Module 3). For now, is there a way to consolidate the fields we need to look into?\n",
    "\n",
    "Fortunately there seems to be a way. It appears the `Total` field is computed based on the other 6 fields. But we need to prove our theory. If we can approve there is a formula to compute `Total` based on the other 6 abilities, we only need to look into `Total`.\n",
    "\n",
    "We have the following expectation now:\n",
    "\n",
    "#### The `Total` field is computed based on `HP`, `Attack`, `Defense`, `Sp. Atk`, `Sp. Def`, and `Speed`.\n",
    "\n",
    "We need to collect the following information:\n",
    "\n",
    "* **What is the formula to compute `Total`?**\n",
    "* **Does the formula work for all pokemons?**\n",
    "\n",
    "In the cell below, make a hypothesis on how `Total` is computed and test your hypothesis."
   ]
  },
  {
   "cell_type": "code",
   "execution_count": 9,
   "metadata": {},
   "outputs": [
    {
     "output_type": "execute_result",
     "data": {
      "text/plain": [
       "True    800\n",
       "Name: Check, dtype: int64"
      ]
     },
     "metadata": {},
     "execution_count": 9
    }
   ],
   "source": [
    "# your code here\n",
    "\n",
    "pokemon[\"Check_Value\"] = pokemon[\"HP\"] + pokemon[\"Attack\"] + pokemon[\"Defense\"] + pokemon[\"Sp. Atk\"] + pokemon[\"Sp. Def\"] + pokemon[\"Speed\"]\n",
    "\n",
    "pokemon[\"Check\"] = pokemon[\"Check_Value\"] == pokemon[\"Total\"]\n",
    "\n",
    "pokemon[\"Check\"].value_counts() # We can see that all of the values are true"
   ]
  },
  {
   "cell_type": "markdown",
   "metadata": {},
   "source": [
    "## Problem Solving Iteration 2\n",
    "\n",
    "Now that we have consolidated the abilities fields, we can update the problem statement. The new problem statement is:\n",
    "\n",
    "### Which pokemon type is most likely to have the highest `Total` value?\n",
    "\n",
    "In the updated problem statement, we assume there is a certain relationship between the `Total` and the pokemon type. But we have two *type* fields (`Type 1` and `Type 2`) that have string values. In data analysis, string fields have to be transformed to numerical format in order to be analyzed. \n",
    "\n",
    "In addition, keep in mind that `Type 1` always has a value but `Type 2` is sometimes empty (having the `NaN` value). Also, the pokemon type we choose may be either in `Type 1` or `Type 2`.\n",
    "\n",
    "Now our expectation is:\n",
    "\n",
    "#### `Type 1` and `Type 2` string variables need to be converted to numerical variables in order to identify the relationship between `Total` and the pokemon type.\n",
    "\n",
    "The information we need to collect is:\n",
    "\n",
    "#### How to convert two string variables to numerical?\n",
    "\n",
    "Let's address the first question first. You can use a method called **One Hot Encoding** which is frequently used in machine learning to encode categorical string variables to numerical. The idea is to gather all the possible string values in a categorical field and create a numerical field for each unique string value. Each of those numerical fields uses `1` and `0` to indicate whether the data record has the corresponding categorical value. A detailed explanation of One Hot Encoding can be found in [this article](https://hackernoon.com/what-is-one-hot-encoding-why-and-when-do-you-have-to-use-it-e3c6186d008f). You will formally learn it in Module 3.\n",
    "\n",
    "For instance, if a pokemon has `Type 1` as `Poison` and `Type 2` as `Fire`, then its `Poison` and `Fire` fields are `1` whereas all other fields are `0`. If a pokemon has `Type 1` as `Water` and `Type 2` as `NaN`, then its `Water` field is `1` whereas all other fields are `0`.\n",
    "\n",
    "#### In the next cell, use One Hot Encoding to encode `Type 1` and `Type 2`. Use the pokemon type values as the names of the numerical fields you create.\n",
    "\n",
    "The new numerical variables you create should look like below:\n",
    "\n",
    "![One Hot Encoding](one-hot-encoding.png)"
   ]
  },
  {
   "cell_type": "code",
   "execution_count": 24,
   "metadata": {},
   "outputs": [
    {
     "output_type": "execute_result",
     "data": {
      "text/plain": [
       "       #                   Name   Type 1  Type 2  Total  HP  Attack  Defense  \\\n",
       "0      1              Bulbasaur    Grass  Poison    318  45      49       49   \n",
       "1      2                Ivysaur    Grass  Poison    405  60      62       63   \n",
       "2      3               Venusaur    Grass  Poison    525  80      82       83   \n",
       "3      3  VenusaurMega Venusaur    Grass  Poison    625  80     100      123   \n",
       "4      4             Charmander     Fire     NaN    309  39      52       43   \n",
       "..   ...                    ...      ...     ...    ...  ..     ...      ...   \n",
       "795  719                Diancie     Rock   Fairy    600  50     100      150   \n",
       "796  719    DiancieMega Diancie     Rock   Fairy    700  50     160      110   \n",
       "797  720    HoopaHoopa Confined  Psychic   Ghost    600  80     110       60   \n",
       "798  720     HoopaHoopa Unbound  Psychic    Dark    680  80     160       60   \n",
       "799  721              Volcanion     Fire   Water    600  80     110      120   \n",
       "\n",
       "     Sp. Atk  Sp. Def  Speed  Generation  Legendary  Check  Check_Value  \n",
       "0         65       65     45           1      False   True          318  \n",
       "1         80       80     60           1      False   True          405  \n",
       "2        100      100     80           1      False   True          525  \n",
       "3        122      120     80           1      False   True          625  \n",
       "4         60       50     65           1      False   True          309  \n",
       "..       ...      ...    ...         ...        ...    ...          ...  \n",
       "795      100      150     50           6       True   True          600  \n",
       "796      160      110    110           6       True   True          700  \n",
       "797      150      130     70           6       True   True          600  \n",
       "798      170      130     80           6       True   True          680  \n",
       "799      130       90     70           6       True   True          600  \n",
       "\n",
       "[800 rows x 15 columns]"
      ],
      "text/html": "<div>\n<style scoped>\n    .dataframe tbody tr th:only-of-type {\n        vertical-align: middle;\n    }\n\n    .dataframe tbody tr th {\n        vertical-align: top;\n    }\n\n    .dataframe thead th {\n        text-align: right;\n    }\n</style>\n<table border=\"1\" class=\"dataframe\">\n  <thead>\n    <tr style=\"text-align: right;\">\n      <th></th>\n      <th>#</th>\n      <th>Name</th>\n      <th>Type 1</th>\n      <th>Type 2</th>\n      <th>Total</th>\n      <th>HP</th>\n      <th>Attack</th>\n      <th>Defense</th>\n      <th>Sp. Atk</th>\n      <th>Sp. Def</th>\n      <th>Speed</th>\n      <th>Generation</th>\n      <th>Legendary</th>\n      <th>Check</th>\n      <th>Check_Value</th>\n    </tr>\n  </thead>\n  <tbody>\n    <tr>\n      <th>0</th>\n      <td>1</td>\n      <td>Bulbasaur</td>\n      <td>Grass</td>\n      <td>Poison</td>\n      <td>318</td>\n      <td>45</td>\n      <td>49</td>\n      <td>49</td>\n      <td>65</td>\n      <td>65</td>\n      <td>45</td>\n      <td>1</td>\n      <td>False</td>\n      <td>True</td>\n      <td>318</td>\n    </tr>\n    <tr>\n      <th>1</th>\n      <td>2</td>\n      <td>Ivysaur</td>\n      <td>Grass</td>\n      <td>Poison</td>\n      <td>405</td>\n      <td>60</td>\n      <td>62</td>\n      <td>63</td>\n      <td>80</td>\n      <td>80</td>\n      <td>60</td>\n      <td>1</td>\n      <td>False</td>\n      <td>True</td>\n      <td>405</td>\n    </tr>\n    <tr>\n      <th>2</th>\n      <td>3</td>\n      <td>Venusaur</td>\n      <td>Grass</td>\n      <td>Poison</td>\n      <td>525</td>\n      <td>80</td>\n      <td>82</td>\n      <td>83</td>\n      <td>100</td>\n      <td>100</td>\n      <td>80</td>\n      <td>1</td>\n      <td>False</td>\n      <td>True</td>\n      <td>525</td>\n    </tr>\n    <tr>\n      <th>3</th>\n      <td>3</td>\n      <td>VenusaurMega Venusaur</td>\n      <td>Grass</td>\n      <td>Poison</td>\n      <td>625</td>\n      <td>80</td>\n      <td>100</td>\n      <td>123</td>\n      <td>122</td>\n      <td>120</td>\n      <td>80</td>\n      <td>1</td>\n      <td>False</td>\n      <td>True</td>\n      <td>625</td>\n    </tr>\n    <tr>\n      <th>4</th>\n      <td>4</td>\n      <td>Charmander</td>\n      <td>Fire</td>\n      <td>NaN</td>\n      <td>309</td>\n      <td>39</td>\n      <td>52</td>\n      <td>43</td>\n      <td>60</td>\n      <td>50</td>\n      <td>65</td>\n      <td>1</td>\n      <td>False</td>\n      <td>True</td>\n      <td>309</td>\n    </tr>\n    <tr>\n      <th>...</th>\n      <td>...</td>\n      <td>...</td>\n      <td>...</td>\n      <td>...</td>\n      <td>...</td>\n      <td>...</td>\n      <td>...</td>\n      <td>...</td>\n      <td>...</td>\n      <td>...</td>\n      <td>...</td>\n      <td>...</td>\n      <td>...</td>\n      <td>...</td>\n      <td>...</td>\n    </tr>\n    <tr>\n      <th>795</th>\n      <td>719</td>\n      <td>Diancie</td>\n      <td>Rock</td>\n      <td>Fairy</td>\n      <td>600</td>\n      <td>50</td>\n      <td>100</td>\n      <td>150</td>\n      <td>100</td>\n      <td>150</td>\n      <td>50</td>\n      <td>6</td>\n      <td>True</td>\n      <td>True</td>\n      <td>600</td>\n    </tr>\n    <tr>\n      <th>796</th>\n      <td>719</td>\n      <td>DiancieMega Diancie</td>\n      <td>Rock</td>\n      <td>Fairy</td>\n      <td>700</td>\n      <td>50</td>\n      <td>160</td>\n      <td>110</td>\n      <td>160</td>\n      <td>110</td>\n      <td>110</td>\n      <td>6</td>\n      <td>True</td>\n      <td>True</td>\n      <td>700</td>\n    </tr>\n    <tr>\n      <th>797</th>\n      <td>720</td>\n      <td>HoopaHoopa Confined</td>\n      <td>Psychic</td>\n      <td>Ghost</td>\n      <td>600</td>\n      <td>80</td>\n      <td>110</td>\n      <td>60</td>\n      <td>150</td>\n      <td>130</td>\n      <td>70</td>\n      <td>6</td>\n      <td>True</td>\n      <td>True</td>\n      <td>600</td>\n    </tr>\n    <tr>\n      <th>798</th>\n      <td>720</td>\n      <td>HoopaHoopa Unbound</td>\n      <td>Psychic</td>\n      <td>Dark</td>\n      <td>680</td>\n      <td>80</td>\n      <td>160</td>\n      <td>60</td>\n      <td>170</td>\n      <td>130</td>\n      <td>80</td>\n      <td>6</td>\n      <td>True</td>\n      <td>True</td>\n      <td>680</td>\n    </tr>\n    <tr>\n      <th>799</th>\n      <td>721</td>\n      <td>Volcanion</td>\n      <td>Fire</td>\n      <td>Water</td>\n      <td>600</td>\n      <td>80</td>\n      <td>110</td>\n      <td>120</td>\n      <td>130</td>\n      <td>90</td>\n      <td>70</td>\n      <td>6</td>\n      <td>True</td>\n      <td>True</td>\n      <td>600</td>\n    </tr>\n  </tbody>\n</table>\n<p>800 rows × 15 columns</p>\n</div>"
     },
     "metadata": {},
     "execution_count": 24
    }
   ],
   "source": [
    "pokemon"
   ]
  },
  {
   "cell_type": "code",
   "execution_count": 26,
   "metadata": {},
   "outputs": [],
   "source": [
    "# your code here\n",
    "pokemon_encoded = pd.get_dummies(pokemon[[\"Type 1\", \"Type 2\"]])\n",
    "\n",
    "pokemon_encoded = pd.merge(pokemon_encoded, pokemon[\"Total\"], how= \"left\", left_index=True, right_index=True)\n"
   ]
  },
  {
   "cell_type": "markdown",
   "metadata": {},
   "source": [
    "## Problem Solving Iteration 3\n",
    "\n",
    "Now we have encoded the pokemon types, we will identify the relationship between `Total` and the encoded fields. Our expectation is:\n",
    "\n",
    "#### There are relationships between `Total` and the encoded pokemon type variables and we need to identify the correlations.\n",
    "\n",
    "The information we need to collect is:\n",
    "\n",
    "#### How to identify the relationship between `Total` and the encoded pokemon type fields?\n",
    "\n",
    "There are multiple ways to answer this question. The easiest way is to use correlation. In the cell below, calculate the correlation of `Total` to each of the encoded fields. Rank the correlations and identify the #1 pokemon type that is most likely to have the highest `Total`."
   ]
  },
  {
   "cell_type": "code",
   "execution_count": 36,
   "metadata": {},
   "outputs": [
    {
     "output_type": "execute_result",
     "data": {
      "text/plain": [
       "                    Total\n",
       "Total            1.000000\n",
       "Type 1_Dragon    0.196532\n",
       "Type 2_Fighting  0.138726\n",
       "Type 2_Dragon    0.115240\n",
       "Type 2_Ice       0.100870\n",
       "Type 1_Psychic   0.094364\n",
       "Type 1_Steel     0.082000\n",
       "Type 2_Psychic   0.076054\n",
       "Type 2_Fire      0.073234\n",
       "Type 2_Steel     0.070307\n",
       "Type 2_Dark      0.065844\n",
       "Type 2_Flying    0.054048\n",
       "Type 1_Fire      0.050527\n",
       "Type 1_Rock      0.037524\n",
       "Type 1_Flying    0.029504\n",
       "Type 1_Dark      0.017818\n",
       "Type 1_Electric  0.016715\n",
       "Type 2_Ground    0.016486\n",
       "Type 2_Electric  0.014669\n",
       "Type 1_Ghost     0.007594\n",
       "Type 1_Ground    0.004082\n",
       "Type 2_Rock     -0.000512\n",
       "Type 1_Ice      -0.002412\n",
       "Type 2_Ghost    -0.004885\n",
       "Type 2_Normal   -0.013956\n",
       "Type 1_Water    -0.015640\n",
       "Type 2_Water    -0.018800\n",
       "Type 2_Bug      -0.021375\n",
       "Type 2_Fairy    -0.024606\n",
       "Type 1_Fairy    -0.026948\n",
       "Type 1_Fighting -0.029086\n",
       "Type 1_Grass    -0.036057\n",
       "Type 2_Grass    -0.039224\n",
       "Type 1_Poison   -0.057123\n",
       "Type 2_Poison   -0.067837\n",
       "Type 1_Normal   -0.104150\n",
       "Type 1_Bug      -0.143957"
      ],
      "text/html": "<div>\n<style scoped>\n    .dataframe tbody tr th:only-of-type {\n        vertical-align: middle;\n    }\n\n    .dataframe tbody tr th {\n        vertical-align: top;\n    }\n\n    .dataframe thead th {\n        text-align: right;\n    }\n</style>\n<table border=\"1\" class=\"dataframe\">\n  <thead>\n    <tr style=\"text-align: right;\">\n      <th></th>\n      <th>Total</th>\n    </tr>\n  </thead>\n  <tbody>\n    <tr>\n      <th>Total</th>\n      <td>1.000000</td>\n    </tr>\n    <tr>\n      <th>Type 1_Dragon</th>\n      <td>0.196532</td>\n    </tr>\n    <tr>\n      <th>Type 2_Fighting</th>\n      <td>0.138726</td>\n    </tr>\n    <tr>\n      <th>Type 2_Dragon</th>\n      <td>0.115240</td>\n    </tr>\n    <tr>\n      <th>Type 2_Ice</th>\n      <td>0.100870</td>\n    </tr>\n    <tr>\n      <th>Type 1_Psychic</th>\n      <td>0.094364</td>\n    </tr>\n    <tr>\n      <th>Type 1_Steel</th>\n      <td>0.082000</td>\n    </tr>\n    <tr>\n      <th>Type 2_Psychic</th>\n      <td>0.076054</td>\n    </tr>\n    <tr>\n      <th>Type 2_Fire</th>\n      <td>0.073234</td>\n    </tr>\n    <tr>\n      <th>Type 2_Steel</th>\n      <td>0.070307</td>\n    </tr>\n    <tr>\n      <th>Type 2_Dark</th>\n      <td>0.065844</td>\n    </tr>\n    <tr>\n      <th>Type 2_Flying</th>\n      <td>0.054048</td>\n    </tr>\n    <tr>\n      <th>Type 1_Fire</th>\n      <td>0.050527</td>\n    </tr>\n    <tr>\n      <th>Type 1_Rock</th>\n      <td>0.037524</td>\n    </tr>\n    <tr>\n      <th>Type 1_Flying</th>\n      <td>0.029504</td>\n    </tr>\n    <tr>\n      <th>Type 1_Dark</th>\n      <td>0.017818</td>\n    </tr>\n    <tr>\n      <th>Type 1_Electric</th>\n      <td>0.016715</td>\n    </tr>\n    <tr>\n      <th>Type 2_Ground</th>\n      <td>0.016486</td>\n    </tr>\n    <tr>\n      <th>Type 2_Electric</th>\n      <td>0.014669</td>\n    </tr>\n    <tr>\n      <th>Type 1_Ghost</th>\n      <td>0.007594</td>\n    </tr>\n    <tr>\n      <th>Type 1_Ground</th>\n      <td>0.004082</td>\n    </tr>\n    <tr>\n      <th>Type 2_Rock</th>\n      <td>-0.000512</td>\n    </tr>\n    <tr>\n      <th>Type 1_Ice</th>\n      <td>-0.002412</td>\n    </tr>\n    <tr>\n      <th>Type 2_Ghost</th>\n      <td>-0.004885</td>\n    </tr>\n    <tr>\n      <th>Type 2_Normal</th>\n      <td>-0.013956</td>\n    </tr>\n    <tr>\n      <th>Type 1_Water</th>\n      <td>-0.015640</td>\n    </tr>\n    <tr>\n      <th>Type 2_Water</th>\n      <td>-0.018800</td>\n    </tr>\n    <tr>\n      <th>Type 2_Bug</th>\n      <td>-0.021375</td>\n    </tr>\n    <tr>\n      <th>Type 2_Fairy</th>\n      <td>-0.024606</td>\n    </tr>\n    <tr>\n      <th>Type 1_Fairy</th>\n      <td>-0.026948</td>\n    </tr>\n    <tr>\n      <th>Type 1_Fighting</th>\n      <td>-0.029086</td>\n    </tr>\n    <tr>\n      <th>Type 1_Grass</th>\n      <td>-0.036057</td>\n    </tr>\n    <tr>\n      <th>Type 2_Grass</th>\n      <td>-0.039224</td>\n    </tr>\n    <tr>\n      <th>Type 1_Poison</th>\n      <td>-0.057123</td>\n    </tr>\n    <tr>\n      <th>Type 2_Poison</th>\n      <td>-0.067837</td>\n    </tr>\n    <tr>\n      <th>Type 1_Normal</th>\n      <td>-0.104150</td>\n    </tr>\n    <tr>\n      <th>Type 1_Bug</th>\n      <td>-0.143957</td>\n    </tr>\n  </tbody>\n</table>\n</div>"
     },
     "metadata": {},
     "execution_count": 36
    }
   ],
   "source": [
    "# your code here\n",
    "pokemon_encoded.corr()[[\"Total\"]].sort_values(\"Total\", ascending=False) # I would choose type1 = dragon"
   ]
  },
  {
   "cell_type": "markdown",
   "metadata": {},
   "source": [
    "# Bonus Question\n",
    "\n",
    "Say now you can choose both `Type 1` and `Type 2` of the pokemon. In order to receive the best pokemon, which types will you choose?"
   ]
  },
  {
   "cell_type": "code",
   "execution_count": 59,
   "metadata": {},
   "outputs": [
    {
     "output_type": "execute_result",
     "data": {
      "text/plain": [
       "     Type 2_Bug  Type 2_Dark  Type 2_Dragon  Type 2_Electric  Type 2_Fairy  \\\n",
       "0             0            0              0                0             0   \n",
       "1             0            0              0                0             0   \n",
       "2             0            0              0                0             0   \n",
       "3             0            0              0                0             0   \n",
       "4             0            0              0                0             0   \n",
       "..          ...          ...            ...              ...           ...   \n",
       "795           0            0              0                0             1   \n",
       "796           0            0              0                0             1   \n",
       "797           0            0              0                0             0   \n",
       "798           0            1              0                0             0   \n",
       "799           0            0              0                0             0   \n",
       "\n",
       "     Type 2_Fighting  Type 2_Fire  Type 2_Flying  Type 2_Ghost  Type 2_Grass  \\\n",
       "0                  0            0              0             0             0   \n",
       "1                  0            0              0             0             0   \n",
       "2                  0            0              0             0             0   \n",
       "3                  0            0              0             0             0   \n",
       "4                  0            0              0             0             0   \n",
       "..               ...          ...            ...           ...           ...   \n",
       "795                0            0              0             0             0   \n",
       "796                0            0              0             0             0   \n",
       "797                0            0              0             1             0   \n",
       "798                0            0              0             0             0   \n",
       "799                0            0              0             0             0   \n",
       "\n",
       "     Type 2_Ground  Type 2_Ice  Type 2_Normal  Type 2_Poison  Type 2_Psychic  \\\n",
       "0                0           0              0              1               0   \n",
       "1                0           0              0              1               0   \n",
       "2                0           0              0              1               0   \n",
       "3                0           0              0              1               0   \n",
       "4                0           0              0              0               0   \n",
       "..             ...         ...            ...            ...             ...   \n",
       "795              0           0              0              0               0   \n",
       "796              0           0              0              0               0   \n",
       "797              0           0              0              0               0   \n",
       "798              0           0              0              0               0   \n",
       "799              0           0              0              0               0   \n",
       "\n",
       "     Type 2_Rock  Type 2_Steel  Type 2_Water  Total  \n",
       "0              0             0             0    318  \n",
       "1              0             0             0    405  \n",
       "2              0             0             0    525  \n",
       "3              0             0             0    625  \n",
       "4              0             0             0    309  \n",
       "..           ...           ...           ...    ...  \n",
       "795            0             0             0    600  \n",
       "796            0             0             0    700  \n",
       "797            0             0             0    600  \n",
       "798            0             0             0    680  \n",
       "799            0             0             1    600  \n",
       "\n",
       "[800 rows x 19 columns]"
      ],
      "text/html": "<div>\n<style scoped>\n    .dataframe tbody tr th:only-of-type {\n        vertical-align: middle;\n    }\n\n    .dataframe tbody tr th {\n        vertical-align: top;\n    }\n\n    .dataframe thead th {\n        text-align: right;\n    }\n</style>\n<table border=\"1\" class=\"dataframe\">\n  <thead>\n    <tr style=\"text-align: right;\">\n      <th></th>\n      <th>Type 2_Bug</th>\n      <th>Type 2_Dark</th>\n      <th>Type 2_Dragon</th>\n      <th>Type 2_Electric</th>\n      <th>Type 2_Fairy</th>\n      <th>Type 2_Fighting</th>\n      <th>Type 2_Fire</th>\n      <th>Type 2_Flying</th>\n      <th>Type 2_Ghost</th>\n      <th>Type 2_Grass</th>\n      <th>Type 2_Ground</th>\n      <th>Type 2_Ice</th>\n      <th>Type 2_Normal</th>\n      <th>Type 2_Poison</th>\n      <th>Type 2_Psychic</th>\n      <th>Type 2_Rock</th>\n      <th>Type 2_Steel</th>\n      <th>Type 2_Water</th>\n      <th>Total</th>\n    </tr>\n  </thead>\n  <tbody>\n    <tr>\n      <th>0</th>\n      <td>0</td>\n      <td>0</td>\n      <td>0</td>\n      <td>0</td>\n      <td>0</td>\n      <td>0</td>\n      <td>0</td>\n      <td>0</td>\n      <td>0</td>\n      <td>0</td>\n      <td>0</td>\n      <td>0</td>\n      <td>0</td>\n      <td>1</td>\n      <td>0</td>\n      <td>0</td>\n      <td>0</td>\n      <td>0</td>\n      <td>318</td>\n    </tr>\n    <tr>\n      <th>1</th>\n      <td>0</td>\n      <td>0</td>\n      <td>0</td>\n      <td>0</td>\n      <td>0</td>\n      <td>0</td>\n      <td>0</td>\n      <td>0</td>\n      <td>0</td>\n      <td>0</td>\n      <td>0</td>\n      <td>0</td>\n      <td>0</td>\n      <td>1</td>\n      <td>0</td>\n      <td>0</td>\n      <td>0</td>\n      <td>0</td>\n      <td>405</td>\n    </tr>\n    <tr>\n      <th>2</th>\n      <td>0</td>\n      <td>0</td>\n      <td>0</td>\n      <td>0</td>\n      <td>0</td>\n      <td>0</td>\n      <td>0</td>\n      <td>0</td>\n      <td>0</td>\n      <td>0</td>\n      <td>0</td>\n      <td>0</td>\n      <td>0</td>\n      <td>1</td>\n      <td>0</td>\n      <td>0</td>\n      <td>0</td>\n      <td>0</td>\n      <td>525</td>\n    </tr>\n    <tr>\n      <th>3</th>\n      <td>0</td>\n      <td>0</td>\n      <td>0</td>\n      <td>0</td>\n      <td>0</td>\n      <td>0</td>\n      <td>0</td>\n      <td>0</td>\n      <td>0</td>\n      <td>0</td>\n      <td>0</td>\n      <td>0</td>\n      <td>0</td>\n      <td>1</td>\n      <td>0</td>\n      <td>0</td>\n      <td>0</td>\n      <td>0</td>\n      <td>625</td>\n    </tr>\n    <tr>\n      <th>4</th>\n      <td>0</td>\n      <td>0</td>\n      <td>0</td>\n      <td>0</td>\n      <td>0</td>\n      <td>0</td>\n      <td>0</td>\n      <td>0</td>\n      <td>0</td>\n      <td>0</td>\n      <td>0</td>\n      <td>0</td>\n      <td>0</td>\n      <td>0</td>\n      <td>0</td>\n      <td>0</td>\n      <td>0</td>\n      <td>0</td>\n      <td>309</td>\n    </tr>\n    <tr>\n      <th>...</th>\n      <td>...</td>\n      <td>...</td>\n      <td>...</td>\n      <td>...</td>\n      <td>...</td>\n      <td>...</td>\n      <td>...</td>\n      <td>...</td>\n      <td>...</td>\n      <td>...</td>\n      <td>...</td>\n      <td>...</td>\n      <td>...</td>\n      <td>...</td>\n      <td>...</td>\n      <td>...</td>\n      <td>...</td>\n      <td>...</td>\n      <td>...</td>\n    </tr>\n    <tr>\n      <th>795</th>\n      <td>0</td>\n      <td>0</td>\n      <td>0</td>\n      <td>0</td>\n      <td>1</td>\n      <td>0</td>\n      <td>0</td>\n      <td>0</td>\n      <td>0</td>\n      <td>0</td>\n      <td>0</td>\n      <td>0</td>\n      <td>0</td>\n      <td>0</td>\n      <td>0</td>\n      <td>0</td>\n      <td>0</td>\n      <td>0</td>\n      <td>600</td>\n    </tr>\n    <tr>\n      <th>796</th>\n      <td>0</td>\n      <td>0</td>\n      <td>0</td>\n      <td>0</td>\n      <td>1</td>\n      <td>0</td>\n      <td>0</td>\n      <td>0</td>\n      <td>0</td>\n      <td>0</td>\n      <td>0</td>\n      <td>0</td>\n      <td>0</td>\n      <td>0</td>\n      <td>0</td>\n      <td>0</td>\n      <td>0</td>\n      <td>0</td>\n      <td>700</td>\n    </tr>\n    <tr>\n      <th>797</th>\n      <td>0</td>\n      <td>0</td>\n      <td>0</td>\n      <td>0</td>\n      <td>0</td>\n      <td>0</td>\n      <td>0</td>\n      <td>0</td>\n      <td>1</td>\n      <td>0</td>\n      <td>0</td>\n      <td>0</td>\n      <td>0</td>\n      <td>0</td>\n      <td>0</td>\n      <td>0</td>\n      <td>0</td>\n      <td>0</td>\n      <td>600</td>\n    </tr>\n    <tr>\n      <th>798</th>\n      <td>0</td>\n      <td>1</td>\n      <td>0</td>\n      <td>0</td>\n      <td>0</td>\n      <td>0</td>\n      <td>0</td>\n      <td>0</td>\n      <td>0</td>\n      <td>0</td>\n      <td>0</td>\n      <td>0</td>\n      <td>0</td>\n      <td>0</td>\n      <td>0</td>\n      <td>0</td>\n      <td>0</td>\n      <td>0</td>\n      <td>680</td>\n    </tr>\n    <tr>\n      <th>799</th>\n      <td>0</td>\n      <td>0</td>\n      <td>0</td>\n      <td>0</td>\n      <td>0</td>\n      <td>0</td>\n      <td>0</td>\n      <td>0</td>\n      <td>0</td>\n      <td>0</td>\n      <td>0</td>\n      <td>0</td>\n      <td>0</td>\n      <td>0</td>\n      <td>0</td>\n      <td>0</td>\n      <td>0</td>\n      <td>1</td>\n      <td>600</td>\n    </tr>\n  </tbody>\n</table>\n<p>800 rows × 19 columns</p>\n</div>"
     },
     "metadata": {},
     "execution_count": 59
    }
   ],
   "source": [
    "# your code here\n",
    "pokemon_encoded_Type1 = pd.get_dummies(pokemon[[\"Type 1\"]])\n",
    "\n",
    "pokemon_encoded_Type1 = pd.merge(pokemon_encoded_Type1, pokemon[\"Total\"], how= \"left\", left_index=True, right_index=True)\n",
    "\n",
    "pokemon_encoded_Type2 = pd.get_dummies(pokemon[[\"Type 2\"]])\n",
    "\n",
    "pokemon_encoded_Type2 = pd.merge(pokemon_encoded_Type2, pokemon[\"Total\"], how= \"left\", left_index=True, right_index=True)\n"
   ]
  },
  {
   "cell_type": "code",
   "execution_count": 60,
   "metadata": {},
   "outputs": [
    {
     "output_type": "execute_result",
     "data": {
      "text/plain": [
       "                    Total\n",
       "Total            1.000000\n",
       "Type 1_Dragon    0.196532\n",
       "Type 1_Psychic   0.094364\n",
       "Type 1_Steel     0.082000\n",
       "Type 1_Fire      0.050527\n",
       "Type 1_Rock      0.037524\n",
       "Type 1_Flying    0.029504\n",
       "Type 1_Dark      0.017818\n",
       "Type 1_Electric  0.016715\n",
       "Type 1_Ghost     0.007594\n",
       "Type 1_Ground    0.004082\n",
       "Type 1_Ice      -0.002412\n",
       "Type 1_Water    -0.015640\n",
       "Type 1_Fairy    -0.026948\n",
       "Type 1_Fighting -0.029086\n",
       "Type 1_Grass    -0.036057\n",
       "Type 1_Poison   -0.057123\n",
       "Type 1_Normal   -0.104150\n",
       "Type 1_Bug      -0.143957"
      ],
      "text/html": "<div>\n<style scoped>\n    .dataframe tbody tr th:only-of-type {\n        vertical-align: middle;\n    }\n\n    .dataframe tbody tr th {\n        vertical-align: top;\n    }\n\n    .dataframe thead th {\n        text-align: right;\n    }\n</style>\n<table border=\"1\" class=\"dataframe\">\n  <thead>\n    <tr style=\"text-align: right;\">\n      <th></th>\n      <th>Total</th>\n    </tr>\n  </thead>\n  <tbody>\n    <tr>\n      <th>Total</th>\n      <td>1.000000</td>\n    </tr>\n    <tr>\n      <th>Type 1_Dragon</th>\n      <td>0.196532</td>\n    </tr>\n    <tr>\n      <th>Type 1_Psychic</th>\n      <td>0.094364</td>\n    </tr>\n    <tr>\n      <th>Type 1_Steel</th>\n      <td>0.082000</td>\n    </tr>\n    <tr>\n      <th>Type 1_Fire</th>\n      <td>0.050527</td>\n    </tr>\n    <tr>\n      <th>Type 1_Rock</th>\n      <td>0.037524</td>\n    </tr>\n    <tr>\n      <th>Type 1_Flying</th>\n      <td>0.029504</td>\n    </tr>\n    <tr>\n      <th>Type 1_Dark</th>\n      <td>0.017818</td>\n    </tr>\n    <tr>\n      <th>Type 1_Electric</th>\n      <td>0.016715</td>\n    </tr>\n    <tr>\n      <th>Type 1_Ghost</th>\n      <td>0.007594</td>\n    </tr>\n    <tr>\n      <th>Type 1_Ground</th>\n      <td>0.004082</td>\n    </tr>\n    <tr>\n      <th>Type 1_Ice</th>\n      <td>-0.002412</td>\n    </tr>\n    <tr>\n      <th>Type 1_Water</th>\n      <td>-0.015640</td>\n    </tr>\n    <tr>\n      <th>Type 1_Fairy</th>\n      <td>-0.026948</td>\n    </tr>\n    <tr>\n      <th>Type 1_Fighting</th>\n      <td>-0.029086</td>\n    </tr>\n    <tr>\n      <th>Type 1_Grass</th>\n      <td>-0.036057</td>\n    </tr>\n    <tr>\n      <th>Type 1_Poison</th>\n      <td>-0.057123</td>\n    </tr>\n    <tr>\n      <th>Type 1_Normal</th>\n      <td>-0.104150</td>\n    </tr>\n    <tr>\n      <th>Type 1_Bug</th>\n      <td>-0.143957</td>\n    </tr>\n  </tbody>\n</table>\n</div>"
     },
     "metadata": {},
     "execution_count": 60
    }
   ],
   "source": [
    "pokemon_encoded_Type1.corr()[[\"Total\"]].sort_values(\"Total\", ascending=False) # I would choose type1 = dragon"
   ]
  },
  {
   "cell_type": "code",
   "execution_count": 62,
   "metadata": {},
   "outputs": [
    {
     "output_type": "execute_result",
     "data": {
      "text/plain": [
       "                    Total\n",
       "Total            1.000000\n",
       "Type 2_Fighting  0.138726\n",
       "Type 2_Dragon    0.115240\n",
       "Type 2_Ice       0.100870\n",
       "Type 2_Psychic   0.076054\n",
       "Type 2_Fire      0.073234\n",
       "Type 2_Steel     0.070307\n",
       "Type 2_Dark      0.065844\n",
       "Type 2_Flying    0.054048\n",
       "Type 2_Ground    0.016486\n",
       "Type 2_Electric  0.014669\n",
       "Type 2_Rock     -0.000512\n",
       "Type 2_Ghost    -0.004885\n",
       "Type 2_Normal   -0.013956\n",
       "Type 2_Water    -0.018800\n",
       "Type 2_Bug      -0.021375\n",
       "Type 2_Fairy    -0.024606\n",
       "Type 2_Grass    -0.039224\n",
       "Type 2_Poison   -0.067837"
      ],
      "text/html": "<div>\n<style scoped>\n    .dataframe tbody tr th:only-of-type {\n        vertical-align: middle;\n    }\n\n    .dataframe tbody tr th {\n        vertical-align: top;\n    }\n\n    .dataframe thead th {\n        text-align: right;\n    }\n</style>\n<table border=\"1\" class=\"dataframe\">\n  <thead>\n    <tr style=\"text-align: right;\">\n      <th></th>\n      <th>Total</th>\n    </tr>\n  </thead>\n  <tbody>\n    <tr>\n      <th>Total</th>\n      <td>1.000000</td>\n    </tr>\n    <tr>\n      <th>Type 2_Fighting</th>\n      <td>0.138726</td>\n    </tr>\n    <tr>\n      <th>Type 2_Dragon</th>\n      <td>0.115240</td>\n    </tr>\n    <tr>\n      <th>Type 2_Ice</th>\n      <td>0.100870</td>\n    </tr>\n    <tr>\n      <th>Type 2_Psychic</th>\n      <td>0.076054</td>\n    </tr>\n    <tr>\n      <th>Type 2_Fire</th>\n      <td>0.073234</td>\n    </tr>\n    <tr>\n      <th>Type 2_Steel</th>\n      <td>0.070307</td>\n    </tr>\n    <tr>\n      <th>Type 2_Dark</th>\n      <td>0.065844</td>\n    </tr>\n    <tr>\n      <th>Type 2_Flying</th>\n      <td>0.054048</td>\n    </tr>\n    <tr>\n      <th>Type 2_Ground</th>\n      <td>0.016486</td>\n    </tr>\n    <tr>\n      <th>Type 2_Electric</th>\n      <td>0.014669</td>\n    </tr>\n    <tr>\n      <th>Type 2_Rock</th>\n      <td>-0.000512</td>\n    </tr>\n    <tr>\n      <th>Type 2_Ghost</th>\n      <td>-0.004885</td>\n    </tr>\n    <tr>\n      <th>Type 2_Normal</th>\n      <td>-0.013956</td>\n    </tr>\n    <tr>\n      <th>Type 2_Water</th>\n      <td>-0.018800</td>\n    </tr>\n    <tr>\n      <th>Type 2_Bug</th>\n      <td>-0.021375</td>\n    </tr>\n    <tr>\n      <th>Type 2_Fairy</th>\n      <td>-0.024606</td>\n    </tr>\n    <tr>\n      <th>Type 2_Grass</th>\n      <td>-0.039224</td>\n    </tr>\n    <tr>\n      <th>Type 2_Poison</th>\n      <td>-0.067837</td>\n    </tr>\n  </tbody>\n</table>\n</div>"
     },
     "metadata": {},
     "execution_count": 62
    }
   ],
   "source": [
    "pokemon_encoded_Type2.corr()[[\"Total\"]].sort_values(\"Total\", ascending=False) # I would choose type2 = fighting"
   ]
  }
 ],
 "metadata": {
  "kernelspec": {
   "display_name": "Python 3",
   "language": "python",
   "name": "python3"
  },
  "language_info": {
   "codemirror_mode": {
    "name": "ipython",
    "version": 3
   },
   "file_extension": ".py",
   "mimetype": "text/x-python",
   "name": "python",
   "nbconvert_exporter": "python",
   "pygments_lexer": "ipython3",
   "version": "3.8.5-final"
  },
  "latex_envs": {
   "LaTeX_envs_menu_present": true,
   "autoclose": false,
   "autocomplete": true,
   "bibliofile": "biblio.bib",
   "cite_by": "apalike",
   "current_citInitial": 1,
   "eqLabelWithNumbers": true,
   "eqNumInitial": 1,
   "hotkeys": {
    "equation": "Ctrl-E",
    "itemize": "Ctrl-I"
   },
   "labels_anchors": false,
   "latex_user_defs": false,
   "report_style_numbering": false,
   "user_envs_cfg": false
  },
  "toc": {
   "base_numbering": 1,
   "nav_menu": {},
   "number_sections": true,
   "sideBar": true,
   "skip_h1_title": false,
   "title_cell": "Table of Contents",
   "title_sidebar": "Contents",
   "toc_cell": true,
   "toc_position": {},
   "toc_section_display": true,
   "toc_window_display": false
  },
  "varInspector": {
   "cols": {
    "lenName": 16,
    "lenType": 16,
    "lenVar": 40
   },
   "kernels_config": {
    "python": {
     "delete_cmd_postfix": "",
     "delete_cmd_prefix": "del ",
     "library": "var_list.py",
     "varRefreshCmd": "print(var_dic_list())"
    },
    "r": {
     "delete_cmd_postfix": ") ",
     "delete_cmd_prefix": "rm(",
     "library": "var_list.r",
     "varRefreshCmd": "cat(var_dic_list()) "
    }
   },
   "types_to_exclude": [
    "module",
    "function",
    "builtin_function_or_method",
    "instance",
    "_Feature"
   ],
   "window_display": false
  }
 },
 "nbformat": 4,
 "nbformat_minor": 2
}