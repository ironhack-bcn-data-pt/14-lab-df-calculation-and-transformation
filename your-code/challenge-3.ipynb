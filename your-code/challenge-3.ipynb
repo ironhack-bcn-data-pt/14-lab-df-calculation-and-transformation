{
 "cells": [
  {
   "cell_type": "markdown",
   "metadata": {},
   "source": [
    "# Challenge 3\n",
    "\n",
    "In this challenge we will work on the `Orders.csv` data set in the previous [Subsetting and Descriptive Stats lab](../../lab-subsetting-and-descriptive-stats/your-code/main.ipynb). In your work you will apply the thinking process and workflow we showed you in Challenge 2.\n",
    "\n",
    "You are serving as a Business Intelligence Analyst at the headquarter of an international fashion goods chain store. Your boss today asked you to do two things for her:\n",
    "\n",
    "**First, identify two groups of customers from the data set.** The first group is **VIP Customers** whose **aggregated expenses** at your global chain stores are **above the 95th percentile** (aka. 0.95 quantile). The second group is **Preferred Customers** whose **aggregated expenses** are **between the 75th and 95th percentile**.\n",
    "\n",
    "**Second, identify which country has the most of your VIP customers, and which country has the most of your VIP+Preferred Customers combined.**"
   ]
  },
  {
   "cell_type": "markdown",
   "metadata": {},
   "source": [
    "# Q1: How to identify VIP & Preferred Customers?\n",
    "\n",
    "We start by importing all the required libraries:"
   ]
  },
  {
   "cell_type": "code",
   "execution_count": 99,
   "metadata": {},
   "outputs": [],
   "source": [
    "# import required libraries\n",
    "import numpy as np\n",
    "import pandas as pd"
   ]
  },
  {
   "cell_type": "markdown",
   "metadata": {},
   "source": [
    "Next, import `Orders.csv` from the \"subsetting\" lab folder into a dataframe variable called `orders`. Print the head of `orders` to overview the data:"
   ]
  },
  {
   "cell_type": "code",
   "execution_count": 100,
   "metadata": {},
   "outputs": [
    {
     "output_type": "execute_result",
     "data": {
      "text/plain": [
       "   Unnamed: 0  InvoiceNo StockCode  year  month  day  hour  \\\n",
       "0           0     536365    85123A  2010     12    3     8   \n",
       "1           1     536365     71053  2010     12    3     8   \n",
       "2           2     536365    84406B  2010     12    3     8   \n",
       "3           3     536365    84029G  2010     12    3     8   \n",
       "4           4     536365    84029E  2010     12    3     8   \n",
       "\n",
       "                           Description  Quantity          InvoiceDate  \\\n",
       "0   white hanging heart t-light holder         6  2010-12-01 08:26:00   \n",
       "1                  white metal lantern         6  2010-12-01 08:26:00   \n",
       "2       cream cupid hearts coat hanger         8  2010-12-01 08:26:00   \n",
       "3  knitted union flag hot water bottle         6  2010-12-01 08:26:00   \n",
       "4       red woolly hottie white heart.         6  2010-12-01 08:26:00   \n",
       "\n",
       "   UnitPrice  CustomerID         Country  amount_spent  \n",
       "0       2.55       17850  United Kingdom         15.30  \n",
       "1       3.39       17850  United Kingdom         20.34  \n",
       "2       2.75       17850  United Kingdom         22.00  \n",
       "3       3.39       17850  United Kingdom         20.34  \n",
       "4       3.39       17850  United Kingdom         20.34  "
      ],
      "text/html": "<div>\n<style scoped>\n    .dataframe tbody tr th:only-of-type {\n        vertical-align: middle;\n    }\n\n    .dataframe tbody tr th {\n        vertical-align: top;\n    }\n\n    .dataframe thead th {\n        text-align: right;\n    }\n</style>\n<table border=\"1\" class=\"dataframe\">\n  <thead>\n    <tr style=\"text-align: right;\">\n      <th></th>\n      <th>Unnamed: 0</th>\n      <th>InvoiceNo</th>\n      <th>StockCode</th>\n      <th>year</th>\n      <th>month</th>\n      <th>day</th>\n      <th>hour</th>\n      <th>Description</th>\n      <th>Quantity</th>\n      <th>InvoiceDate</th>\n      <th>UnitPrice</th>\n      <th>CustomerID</th>\n      <th>Country</th>\n      <th>amount_spent</th>\n    </tr>\n  </thead>\n  <tbody>\n    <tr>\n      <th>0</th>\n      <td>0</td>\n      <td>536365</td>\n      <td>85123A</td>\n      <td>2010</td>\n      <td>12</td>\n      <td>3</td>\n      <td>8</td>\n      <td>white hanging heart t-light holder</td>\n      <td>6</td>\n      <td>2010-12-01 08:26:00</td>\n      <td>2.55</td>\n      <td>17850</td>\n      <td>United Kingdom</td>\n      <td>15.30</td>\n    </tr>\n    <tr>\n      <th>1</th>\n      <td>1</td>\n      <td>536365</td>\n      <td>71053</td>\n      <td>2010</td>\n      <td>12</td>\n      <td>3</td>\n      <td>8</td>\n      <td>white metal lantern</td>\n      <td>6</td>\n      <td>2010-12-01 08:26:00</td>\n      <td>3.39</td>\n      <td>17850</td>\n      <td>United Kingdom</td>\n      <td>20.34</td>\n    </tr>\n    <tr>\n      <th>2</th>\n      <td>2</td>\n      <td>536365</td>\n      <td>84406B</td>\n      <td>2010</td>\n      <td>12</td>\n      <td>3</td>\n      <td>8</td>\n      <td>cream cupid hearts coat hanger</td>\n      <td>8</td>\n      <td>2010-12-01 08:26:00</td>\n      <td>2.75</td>\n      <td>17850</td>\n      <td>United Kingdom</td>\n      <td>22.00</td>\n    </tr>\n    <tr>\n      <th>3</th>\n      <td>3</td>\n      <td>536365</td>\n      <td>84029G</td>\n      <td>2010</td>\n      <td>12</td>\n      <td>3</td>\n      <td>8</td>\n      <td>knitted union flag hot water bottle</td>\n      <td>6</td>\n      <td>2010-12-01 08:26:00</td>\n      <td>3.39</td>\n      <td>17850</td>\n      <td>United Kingdom</td>\n      <td>20.34</td>\n    </tr>\n    <tr>\n      <th>4</th>\n      <td>4</td>\n      <td>536365</td>\n      <td>84029E</td>\n      <td>2010</td>\n      <td>12</td>\n      <td>3</td>\n      <td>8</td>\n      <td>red woolly hottie white heart.</td>\n      <td>6</td>\n      <td>2010-12-01 08:26:00</td>\n      <td>3.39</td>\n      <td>17850</td>\n      <td>United Kingdom</td>\n      <td>20.34</td>\n    </tr>\n  </tbody>\n</table>\n</div>"
     },
     "metadata": {},
     "execution_count": 100
    }
   ],
   "source": [
    "# enter your code here\n",
    "orders = pd.read_csv(\"/Users/miquicampuzano/Documents/Miqui/1. Formación/Ironhack/5. Materiales/notebooks/data/Orders.csv\")\n",
    "orders.head()"
   ]
  },
  {
   "cell_type": "markdown",
   "metadata": {},
   "source": [
    "---\n",
    "\n",
    "\"Identify VIP and Preferred Customers\" is the non-technical goal of your boss. You need to translate that goal into technical languages that data analysts use:\n",
    "\n",
    "## How to label customers whose aggregated `amount_spent` is in a given quantile range?\n"
   ]
  },
  {
   "cell_type": "markdown",
   "metadata": {},
   "source": [
    "We break down the main problem into several sub problems:\n",
    "\n",
    "#### Sub Problem 1: How to aggregate the  `amount_spent` for unique customers?\n",
    "\n",
    "#### Sub Problem 2: How to select customers whose aggregated `amount_spent` is in a given quantile range?\n",
    "\n",
    "#### Sub Problem 3: How to label selected customers as \"VIP\" or \"Preferred\"?\n",
    "\n",
    "*Note: If you want to break down the main problem in a different way, please feel free to revise the sub problems above.*\n",
    "\n",
    "Now in the workspace below, tackle each of the sub problems using the iterative problem solving workflow. Insert cells as necessary to write your codes and explain your steps."
   ]
  },
  {
   "cell_type": "code",
   "execution_count": 101,
   "metadata": {},
   "outputs": [
    {
     "output_type": "error",
     "ename": "AttributeError",
     "evalue": "'DataFrame' object has no attribute 'collect'",
     "traceback": [
      "\u001b[0;31m---------------------------------------------------------------------------\u001b[0m",
      "\u001b[0;31mAttributeError\u001b[0m                            Traceback (most recent call last)",
      "\u001b[0;32m<ipython-input-101-e33359fb0f7e>\u001b[0m in \u001b[0;36m<module>\u001b[0;34m\u001b[0m\n\u001b[0;32m----> 1\u001b[0;31m \u001b[0mhelp\u001b[0m\u001b[0;34m(\u001b[0m\u001b[0morders\u001b[0m\u001b[0;34m.\u001b[0m\u001b[0mcollect\u001b[0m\u001b[0;34m(\u001b[0m\u001b[0;34m)\u001b[0m\u001b[0;34m)\u001b[0m\u001b[0;34m\u001b[0m\u001b[0;34m\u001b[0m\u001b[0m\n\u001b[0m",
      "\u001b[0;32m~/opt/anaconda3/lib/python3.8/site-packages/pandas/core/generic.py\u001b[0m in \u001b[0;36m__getattr__\u001b[0;34m(self, name)\u001b[0m\n\u001b[1;32m   5137\u001b[0m             \u001b[0;32mif\u001b[0m \u001b[0mself\u001b[0m\u001b[0;34m.\u001b[0m\u001b[0m_info_axis\u001b[0m\u001b[0;34m.\u001b[0m\u001b[0m_can_hold_identifiers_and_holds_name\u001b[0m\u001b[0;34m(\u001b[0m\u001b[0mname\u001b[0m\u001b[0;34m)\u001b[0m\u001b[0;34m:\u001b[0m\u001b[0;34m\u001b[0m\u001b[0;34m\u001b[0m\u001b[0m\n\u001b[1;32m   5138\u001b[0m                 \u001b[0;32mreturn\u001b[0m \u001b[0mself\u001b[0m\u001b[0;34m[\u001b[0m\u001b[0mname\u001b[0m\u001b[0;34m]\u001b[0m\u001b[0;34m\u001b[0m\u001b[0;34m\u001b[0m\u001b[0m\n\u001b[0;32m-> 5139\u001b[0;31m             \u001b[0;32mreturn\u001b[0m \u001b[0mobject\u001b[0m\u001b[0;34m.\u001b[0m\u001b[0m__getattribute__\u001b[0m\u001b[0;34m(\u001b[0m\u001b[0mself\u001b[0m\u001b[0;34m,\u001b[0m \u001b[0mname\u001b[0m\u001b[0;34m)\u001b[0m\u001b[0;34m\u001b[0m\u001b[0;34m\u001b[0m\u001b[0m\n\u001b[0m\u001b[1;32m   5140\u001b[0m \u001b[0;34m\u001b[0m\u001b[0m\n\u001b[1;32m   5141\u001b[0m     \u001b[0;32mdef\u001b[0m \u001b[0m__setattr__\u001b[0m\u001b[0;34m(\u001b[0m\u001b[0mself\u001b[0m\u001b[0;34m,\u001b[0m \u001b[0mname\u001b[0m\u001b[0;34m:\u001b[0m \u001b[0mstr\u001b[0m\u001b[0;34m,\u001b[0m \u001b[0mvalue\u001b[0m\u001b[0;34m)\u001b[0m \u001b[0;34m->\u001b[0m \u001b[0;32mNone\u001b[0m\u001b[0;34m:\u001b[0m\u001b[0;34m\u001b[0m\u001b[0;34m\u001b[0m\u001b[0m\n",
      "\u001b[0;31mAttributeError\u001b[0m: 'DataFrame' object has no attribute 'collect'"
     ]
    }
   ],
   "source": [
    "help(orders.collect())"
   ]
  },
  {
   "cell_type": "code",
   "execution_count": 102,
   "metadata": {},
   "outputs": [
    {
     "output_type": "execute_result",
     "data": {
      "text/plain": [
       "            Unnamed: 0  InvoiceNo     year  month   day   hour  Quantity  \\\n",
       "CustomerID                                                                 \n",
       "12346            61619     541431     2011      1     2     10     74215   \n",
       "12347         42441700  101296926   365971   1383   441   2219      2458   \n",
       "12348          2807120   16869685    62324    257   111    472      2341   \n",
       "12349         35444274   42165457   146803    803    73    657       631   \n",
       "12350          1365627    9231629    34187     34    51    272       197   \n",
       "...                ...        ...      ...    ...   ...    ...       ...   \n",
       "18280          1110495    5457120    20110     30    10     90        45   \n",
       "18281          1560699    3895248    14077     42    49     70        54   \n",
       "18282          4642134    6838540    24132    116    60    146       103   \n",
       "18283        233950830  425704048  1520316   5503  2489  10346      1397   \n",
       "18287         21958901   39474556   140770    555   332    697      1586   \n",
       "\n",
       "            UnitPrice  amount_spent  \n",
       "CustomerID                           \n",
       "12346            1.04      77183.60  \n",
       "12347          481.21       4310.00  \n",
       "12348          178.71       1797.24  \n",
       "12349          605.10       1757.55  \n",
       "12350           65.30        334.40  \n",
       "...               ...           ...  \n",
       "18280           47.65        180.60  \n",
       "18281           39.36         80.82  \n",
       "18282           62.39        178.05  \n",
       "18283         1220.93       2094.88  \n",
       "18287          104.55       1837.28  \n",
       "\n",
       "[4339 rows x 9 columns]"
      ],
      "text/html": "<div>\n<style scoped>\n    .dataframe tbody tr th:only-of-type {\n        vertical-align: middle;\n    }\n\n    .dataframe tbody tr th {\n        vertical-align: top;\n    }\n\n    .dataframe thead th {\n        text-align: right;\n    }\n</style>\n<table border=\"1\" class=\"dataframe\">\n  <thead>\n    <tr style=\"text-align: right;\">\n      <th></th>\n      <th>Unnamed: 0</th>\n      <th>InvoiceNo</th>\n      <th>year</th>\n      <th>month</th>\n      <th>day</th>\n      <th>hour</th>\n      <th>Quantity</th>\n      <th>UnitPrice</th>\n      <th>amount_spent</th>\n    </tr>\n    <tr>\n      <th>CustomerID</th>\n      <th></th>\n      <th></th>\n      <th></th>\n      <th></th>\n      <th></th>\n      <th></th>\n      <th></th>\n      <th></th>\n      <th></th>\n    </tr>\n  </thead>\n  <tbody>\n    <tr>\n      <th>12346</th>\n      <td>61619</td>\n      <td>541431</td>\n      <td>2011</td>\n      <td>1</td>\n      <td>2</td>\n      <td>10</td>\n      <td>74215</td>\n      <td>1.04</td>\n      <td>77183.60</td>\n    </tr>\n    <tr>\n      <th>12347</th>\n      <td>42441700</td>\n      <td>101296926</td>\n      <td>365971</td>\n      <td>1383</td>\n      <td>441</td>\n      <td>2219</td>\n      <td>2458</td>\n      <td>481.21</td>\n      <td>4310.00</td>\n    </tr>\n    <tr>\n      <th>12348</th>\n      <td>2807120</td>\n      <td>16869685</td>\n      <td>62324</td>\n      <td>257</td>\n      <td>111</td>\n      <td>472</td>\n      <td>2341</td>\n      <td>178.71</td>\n      <td>1797.24</td>\n    </tr>\n    <tr>\n      <th>12349</th>\n      <td>35444274</td>\n      <td>42165457</td>\n      <td>146803</td>\n      <td>803</td>\n      <td>73</td>\n      <td>657</td>\n      <td>631</td>\n      <td>605.10</td>\n      <td>1757.55</td>\n    </tr>\n    <tr>\n      <th>12350</th>\n      <td>1365627</td>\n      <td>9231629</td>\n      <td>34187</td>\n      <td>34</td>\n      <td>51</td>\n      <td>272</td>\n      <td>197</td>\n      <td>65.30</td>\n      <td>334.40</td>\n    </tr>\n    <tr>\n      <th>...</th>\n      <td>...</td>\n      <td>...</td>\n      <td>...</td>\n      <td>...</td>\n      <td>...</td>\n      <td>...</td>\n      <td>...</td>\n      <td>...</td>\n      <td>...</td>\n    </tr>\n    <tr>\n      <th>18280</th>\n      <td>1110495</td>\n      <td>5457120</td>\n      <td>20110</td>\n      <td>30</td>\n      <td>10</td>\n      <td>90</td>\n      <td>45</td>\n      <td>47.65</td>\n      <td>180.60</td>\n    </tr>\n    <tr>\n      <th>18281</th>\n      <td>1560699</td>\n      <td>3895248</td>\n      <td>14077</td>\n      <td>42</td>\n      <td>49</td>\n      <td>70</td>\n      <td>54</td>\n      <td>39.36</td>\n      <td>80.82</td>\n    </tr>\n    <tr>\n      <th>18282</th>\n      <td>4642134</td>\n      <td>6838540</td>\n      <td>24132</td>\n      <td>116</td>\n      <td>60</td>\n      <td>146</td>\n      <td>103</td>\n      <td>62.39</td>\n      <td>178.05</td>\n    </tr>\n    <tr>\n      <th>18283</th>\n      <td>233950830</td>\n      <td>425704048</td>\n      <td>1520316</td>\n      <td>5503</td>\n      <td>2489</td>\n      <td>10346</td>\n      <td>1397</td>\n      <td>1220.93</td>\n      <td>2094.88</td>\n    </tr>\n    <tr>\n      <th>18287</th>\n      <td>21958901</td>\n      <td>39474556</td>\n      <td>140770</td>\n      <td>555</td>\n      <td>332</td>\n      <td>697</td>\n      <td>1586</td>\n      <td>104.55</td>\n      <td>1837.28</td>\n    </tr>\n  </tbody>\n</table>\n<p>4339 rows × 9 columns</p>\n</div>"
     },
     "metadata": {},
     "execution_count": 102
    }
   ],
   "source": [
    "orders.groupby(\"CustomerID\").sum()\n"
   ]
  },
  {
   "cell_type": "code",
   "execution_count": 103,
   "metadata": {},
   "outputs": [],
   "source": [
    "# your code here\n",
    "# Group sales by customer:\n",
    "\n",
    "orders_grouped = orders[[\"CustomerID\", \"Quantity\", \"amount_spent\", \"Country\"]].groupby(\"CustomerID\").sum()\n",
    "\n",
    "vip_customers = orders_grouped[orders_grouped[\"amount_spent\"] >= orders_grouped[\"amount_spent\"].quantile(0.95)]\n",
    "\n",
    "prefferred_customers = orders_grouped[(orders_grouped[\"amount_spent\"] < orders_grouped[\"amount_spent\"].quantile(0.95)) & (orders_grouped[\"amount_spent\"] >= orders_grouped[\"amount_spent\"].quantile(0.75))]\n"
   ]
  },
  {
   "cell_type": "markdown",
   "metadata": {},
   "source": [
    "Now we'll leave it to you to solve Q2 & Q3, which you can leverage from your solution for Q1:\n",
    "\n",
    "# Q2: How to identify which country has the most VIP Customers?\n",
    "\n",
    "# Q3: How to identify which country has the most VIP+Preferred Customers combined?\n",
    "\n",
    "Provide your solution for Q2 below:"
   ]
  },
  {
   "cell_type": "code",
   "execution_count": 104,
   "metadata": {},
   "outputs": [
    {
     "output_type": "execute_result",
     "data": {
      "text/plain": [
       "Country\n",
       "United Kingdom     177\n",
       "Germany             10\n",
       "France               9\n",
       "Switzerland          3\n",
       "EIRE                 2\n",
       "Japan                2\n",
       "Portugal             2\n",
       "Spain                2\n",
       "Australia            2\n",
       "Norway               1\n",
       "Netherlands          1\n",
       "Singapore            1\n",
       "Finland              1\n",
       "Sweden               1\n",
       "Denmark              1\n",
       "Cyprus               1\n",
       "Channel Islands      1\n",
       "dtype: int64"
      ]
     },
     "metadata": {},
     "execution_count": 104
    }
   ],
   "source": [
    "# your code here\n",
    "#Add the country of the customers:\n",
    "\n",
    "countries = orders.drop_duplicates(\"CustomerID\")\n",
    "vip_customers = vip_customers.merge(countries[[\"CustomerID\",\"Country\"]], how= \"left\", on = \"CustomerID\")\n",
    "vip_customers.value_counts(\"Country\")"
   ]
  },
  {
   "cell_type": "code",
   "execution_count": 105,
   "metadata": {},
   "outputs": [
    {
     "output_type": "execute_result",
     "data": {
      "text/plain": [
       "Country\n",
       "United Kingdom     755\n",
       "Germany             29\n",
       "France              20\n",
       "Belgium             11\n",
       "Norway               6\n",
       "Switzerland          6\n",
       "Spain                5\n",
       "Portugal             5\n",
       "Italy                5\n",
       "Finland              4\n",
       "Channel Islands      3\n",
       "Cyprus               2\n",
       "Denmark              2\n",
       "Australia            2\n",
       "Israel               2\n",
       "Japan                2\n",
       "Greece               1\n",
       "EIRE                 1\n",
       "Lebanon              1\n",
       "Malta                1\n",
       "Poland               1\n",
       "Canada               1\n",
       "Sweden               1\n",
       "Austria              1\n",
       "Iceland              1\n",
       "dtype: int64"
      ]
     },
     "metadata": {},
     "execution_count": 105
    }
   ],
   "source": [
    "# Do the same for prefferred customers:\n",
    "\n",
    "prefferred_customers = prefferred_customers.merge(countries[[\"CustomerID\",\"Country\"]], how= \"left\", on = \"CustomerID\")\n",
    "\n",
    "prefferred_customers.value_counts(\"Country\")"
   ]
  },
  {
   "cell_type": "code",
   "execution_count": 108,
   "metadata": {},
   "outputs": [
    {
     "output_type": "execute_result",
     "data": {
      "text/plain": [
       "     CustomerID  Quantity  amount_spent         Country\n",
       "0         12346     74215      77183.60  United Kingdom\n",
       "1         12357      2708       6207.67     Switzerland\n",
       "2         12359      1622       6372.58          Cyprus\n",
       "3         12409      5551      11072.67     Switzerland\n",
       "4         12415     77670     124914.53       Australia\n",
       "..          ...       ...           ...             ...\n",
       "212       18109      4237       8052.97  United Kingdom\n",
       "213       18139      5557       8438.34  United Kingdom\n",
       "214       18172      3184       7561.68  United Kingdom\n",
       "215       18223      2948       6484.54  United Kingdom\n",
       "216       18229      2488       7276.90  United Kingdom\n",
       "\n",
       "[217 rows x 4 columns]"
      ],
      "text/html": "<div>\n<style scoped>\n    .dataframe tbody tr th:only-of-type {\n        vertical-align: middle;\n    }\n\n    .dataframe tbody tr th {\n        vertical-align: top;\n    }\n\n    .dataframe thead th {\n        text-align: right;\n    }\n</style>\n<table border=\"1\" class=\"dataframe\">\n  <thead>\n    <tr style=\"text-align: right;\">\n      <th></th>\n      <th>CustomerID</th>\n      <th>Quantity</th>\n      <th>amount_spent</th>\n      <th>Country</th>\n    </tr>\n  </thead>\n  <tbody>\n    <tr>\n      <th>0</th>\n      <td>12346</td>\n      <td>74215</td>\n      <td>77183.60</td>\n      <td>United Kingdom</td>\n    </tr>\n    <tr>\n      <th>1</th>\n      <td>12357</td>\n      <td>2708</td>\n      <td>6207.67</td>\n      <td>Switzerland</td>\n    </tr>\n    <tr>\n      <th>2</th>\n      <td>12359</td>\n      <td>1622</td>\n      <td>6372.58</td>\n      <td>Cyprus</td>\n    </tr>\n    <tr>\n      <th>3</th>\n      <td>12409</td>\n      <td>5551</td>\n      <td>11072.67</td>\n      <td>Switzerland</td>\n    </tr>\n    <tr>\n      <th>4</th>\n      <td>12415</td>\n      <td>77670</td>\n      <td>124914.53</td>\n      <td>Australia</td>\n    </tr>\n    <tr>\n      <th>...</th>\n      <td>...</td>\n      <td>...</td>\n      <td>...</td>\n      <td>...</td>\n    </tr>\n    <tr>\n      <th>212</th>\n      <td>18109</td>\n      <td>4237</td>\n      <td>8052.97</td>\n      <td>United Kingdom</td>\n    </tr>\n    <tr>\n      <th>213</th>\n      <td>18139</td>\n      <td>5557</td>\n      <td>8438.34</td>\n      <td>United Kingdom</td>\n    </tr>\n    <tr>\n      <th>214</th>\n      <td>18172</td>\n      <td>3184</td>\n      <td>7561.68</td>\n      <td>United Kingdom</td>\n    </tr>\n    <tr>\n      <th>215</th>\n      <td>18223</td>\n      <td>2948</td>\n      <td>6484.54</td>\n      <td>United Kingdom</td>\n    </tr>\n    <tr>\n      <th>216</th>\n      <td>18229</td>\n      <td>2488</td>\n      <td>7276.90</td>\n      <td>United Kingdom</td>\n    </tr>\n  </tbody>\n</table>\n<p>217 rows × 4 columns</p>\n</div>"
     },
     "metadata": {},
     "execution_count": 108
    }
   ],
   "source": [
    "vip_customers"
   ]
  },
  {
   "cell_type": "code",
   "execution_count": 111,
   "metadata": {},
   "outputs": [],
   "source": [
    "prefferred_customers[\"Type\"] = \"Prefferred\"\n",
    "vip_customers[\"Type\"] = \"Vip\""
   ]
  },
  {
   "cell_type": "code",
   "execution_count": 121,
   "metadata": {},
   "outputs": [
    {
     "output_type": "execute_result",
     "data": {
      "text/plain": [
       "Country\n",
       "United Kingdom     932\n",
       "Germany             39\n",
       "France              29\n",
       "Belgium             11\n",
       "Switzerland          9\n",
       "Spain                7\n",
       "Portugal             7\n",
       "Norway               7\n",
       "Italy                5\n",
       "Finland              5\n",
       "Channel Islands      4\n",
       "Australia            4\n",
       "Japan                4\n",
       "EIRE                 3\n",
       "Denmark              3\n",
       "Cyprus               3\n",
       "Sweden               2\n",
       "Israel               2\n",
       "Lebanon              1\n",
       "Iceland              1\n",
       "Greece               1\n",
       "Malta                1\n",
       "Netherlands          1\n",
       "Poland               1\n",
       "Singapore            1\n",
       "Canada               1\n",
       "Austria              1\n",
       "dtype: int64"
      ]
     },
     "metadata": {},
     "execution_count": 121
    }
   ],
   "source": [
    "preff_vip = pd.concat([prefferred_customers, vip_customers])\n",
    "\n",
    "preff_vip.value_counts(\"Country\")\n",
    "\n"
   ]
  },
  {
   "cell_type": "code",
   "execution_count": null,
   "metadata": {},
   "outputs": [],
   "source": []
  }
 ],
 "metadata": {
  "kernelspec": {
   "display_name": "Python 3",
   "language": "python",
   "name": "python3"
  },
  "language_info": {
   "codemirror_mode": {
    "name": "ipython",
    "version": 3
   },
   "file_extension": ".py",
   "mimetype": "text/x-python",
   "name": "python",
   "nbconvert_exporter": "python",
   "pygments_lexer": "ipython3",
   "version": "3.8.5-final"
  }
 },
 "nbformat": 4,
 "nbformat_minor": 2
}